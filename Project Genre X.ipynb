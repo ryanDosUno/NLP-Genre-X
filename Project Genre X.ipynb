{
 "cells": [
  {
   "cell_type": "code",
   "execution_count": 107,
   "metadata": {},
   "outputs": [],
   "source": [
    "import pandas as pd\n",
    "import numpy as np\n",
    "import nltk\n",
    "import sklearn as skl\n",
    "import math\n",
    "from numpy import loadtxt\n",
    "from keras.models import Sequential\n",
    "from keras.layers import Dense\n",
    "\n",
    "from sklearn.naive_bayes import MultinomialNB, GaussianNB\n",
    "from sklearn import metrics\n",
    "from sklearn.metrics import roc_curve, auc\n",
    "from sklearn.model_selection import train_test_split\n",
    "from sklearn.model_selection import cross_val_score\n",
    "\n",
    "import seaborn as sns\n",
    "import matplotlib.pyplot as plt\n",
    "from sklearn.metrics import confusion_matrix\n",
    "\n",
    "from sklearn.multiclass import OneVsRestClassifier\n",
    "from sklearn.svm import LinearSVC\n",
    "from sklearn.svm import SVC\n",
    "\n",
    "from nltk import ngrams\n",
    "from nltk.tokenize import word_tokenize"
   ]
  },
  {
   "cell_type": "code",
   "execution_count": null,
   "metadata": {},
   "outputs": [],
   "source": []
  },
  {
   "cell_type": "code",
   "execution_count": null,
   "metadata": {},
   "outputs": [],
   "source": []
  },
  {
   "cell_type": "markdown",
   "metadata": {},
   "source": [
    "# 1. Data Preprocessing"
   ]
  },
  {
   "cell_type": "markdown",
   "metadata": {},
   "source": [
    "### Load data set from CSV File"
   ]
  },
  {
   "cell_type": "code",
   "execution_count": 223,
   "metadata": {},
   "outputs": [],
   "source": [
    "datasetFilePath = 'NLP Dataset/song_lyrics_dataset.csv'\n",
    "datasetDF = pd.read_csv(datasetFilePath)"
   ]
  },
  {
   "cell_type": "markdown",
   "metadata": {},
   "source": [
    "### Convert the lyrics to lowercase"
   ]
  },
  {
   "cell_type": "code",
   "execution_count": 205,
   "metadata": {},
   "outputs": [],
   "source": [
    "datasetDF['lyrics'] = datasetDF['lyrics'].str.lower()"
   ]
  },
  {
   "cell_type": "code",
   "execution_count": 224,
   "metadata": {},
   "outputs": [
    {
     "data": {
      "text/plain": [
       "(28372, 31)"
      ]
     },
     "execution_count": 224,
     "metadata": {},
     "output_type": "execute_result"
    }
   ],
   "source": [
    "datasetDF.shape"
   ]
  },
  {
   "cell_type": "code",
   "execution_count": 4,
   "metadata": {},
   "outputs": [],
   "source": [
    "def get_ngrams(text):\n",
    "    n = 4\n",
    "    n_grams = ngrams(word_tokenize(text), n)\n",
    "    return [ ' '.join(grams) for grams in n_grams]"
   ]
  },
  {
   "cell_type": "markdown",
   "metadata": {},
   "source": [
    "### Remove punctiations and numeric characters"
   ]
  },
  {
   "cell_type": "code",
   "execution_count": 206,
   "metadata": {},
   "outputs": [],
   "source": [
    "#nltk.download('words')\n",
    "words = set(nltk.corpus.words.words())\n",
    "def remove_notwords(text):\n",
    "    output = \" \".join(w for w in nltk.wordpunct_tokenize(text) if w.lower() in words or not w.isalpha())\n",
    "    return output"
   ]
  },
  {
   "cell_type": "markdown",
   "metadata": {},
   "source": [
    "### Lemmatize each token in the lyrics"
   ]
  },
  {
   "cell_type": "code",
   "execution_count": 208,
   "metadata": {},
   "outputs": [
    {
     "data": {
      "text/plain": [
       "0    hold time feel break feel untrue convince spea...\n",
       "Name: text_lemmatized, dtype: object"
      ]
     },
     "execution_count": 208,
     "metadata": {},
     "output_type": "execute_result"
    }
   ],
   "source": [
    "w_tokenizer = nltk.tokenize.WhitespaceTokenizer()\n",
    "lemmatizer = nltk.stem.WordNetLemmatizer()\n",
    "\n",
    "def lemmatize_text(text):\n",
    "    lemmatize_text = [lemmatizer.lemmatize(w) for w in w_tokenizer.tokenize(text)]\n",
    "    return ' '.join(lemmatize_text)\n",
    "\n",
    "\n",
    "datasetDF['text_lemmatized'] = datasetDF.lyrics.apply(lemmatize_text)"
   ]
  },
  {
   "cell_type": "markdown",
   "metadata": {},
   "source": [
    "### Remove stop words from the lyrics"
   ]
  },
  {
   "cell_type": "code",
   "execution_count": 209,
   "metadata": {},
   "outputs": [
    {
     "data": {
      "text/plain": [
       "0    hold time feel break feel untrue convince spea...\n",
       "Name: no_stopwords, dtype: object"
      ]
     },
     "execution_count": 209,
     "metadata": {},
     "output_type": "execute_result"
    }
   ],
   "source": [
    "stopwords = nltk.corpus.stopwords.words('english')\n",
    "\n",
    "def remove_stopwords(text):\n",
    "    tokens_without_sw = [word for word in  w_tokenizer.tokenize(text) if not word in stopwords]\n",
    "    return ' '.join(tokens_without_sw)\n",
    "\n",
    "datasetDF['no_stopwords'] = datasetDF.text_lemmatized.apply(remove_stopwords)"
   ]
  },
  {
   "cell_type": "markdown",
   "metadata": {},
   "source": [
    "### Map the genre to numeric values"
   ]
  },
  {
   "cell_type": "code",
   "execution_count": 210,
   "metadata": {},
   "outputs": [],
   "source": [
    "d ={\n",
    "    'pop':0,\n",
    "    'jazz':1,\n",
    "    'blues':2,\n",
    "    'reggae':3,\n",
    "    'hip hop':4,\n",
    "    'rock':5,\n",
    "    'country':6\n",
    "}\n",
    "datasetDF['genre_num'] = datasetDF['genre'].map(d)"
   ]
  },
  {
   "cell_type": "markdown",
   "metadata": {},
   "source": [
    "### Balance the distribution of dataset from different genre"
   ]
  },
  {
   "cell_type": "code",
   "execution_count": 211,
   "metadata": {},
   "outputs": [],
   "source": [
    "datasetDF = datasetDF[datasetDF['len']>=100]\n",
    "balanced_datasetDF = pd.DataFrame()\n",
    "balanced_datasetDF = balanced_datasetDF.append(datasetDF[datasetDF['genre'] == 'pop'].head(500))\n",
    "balanced_datasetDF = balanced_datasetDF.append(datasetDF[datasetDF['genre'] == 'jazz'].head(500))\n",
    "balanced_datasetDF = balanced_datasetDF.append(datasetDF[datasetDF['genre'] == 'blues'].head(500))\n",
    "balanced_datasetDF = balanced_datasetDF.append(datasetDF[datasetDF['genre'] == 'reggae'].head(500))\n",
    "balanced_datasetDF = balanced_datasetDF.append(datasetDF[datasetDF['genre'] == 'hip hop'].head(500))\n",
    "balanced_datasetDF = balanced_datasetDF.append(datasetDF[datasetDF['genre'] == 'rock'].head(500))\n",
    "balanced_datasetDF = balanced_datasetDF.append(datasetDF[datasetDF['genre'] == 'country'].head(500))\n",
    "#balanced_datasetDF.shape"
   ]
  },
  {
   "cell_type": "markdown",
   "metadata": {},
   "source": [
    "# 2. Feature Extraction"
   ]
  },
  {
   "cell_type": "code",
   "execution_count": 212,
   "metadata": {},
   "outputs": [],
   "source": [
    "new_datasetDF = balanced_datasetDF\n",
    "features_datasetDF = pd.DataFrame()\n",
    "ngram_classes = 4\n",
    "\n",
    "for i, current_lyrics in new_datasetDF.iterrows():\n",
    "    trigrams = get_ngrams(current_lyrics.no_stopwords)\n",
    "    fdist = nltk.FreqDist( trigrams )\n",
    "    ngram_df = pd.DataFrame( data = fdist.items(), columns=['ngram', 'f'] )\n",
    "    base = round ( ngram_df['f'].max()**(1/float(ngram_classes-1)), 5 )\n",
    "    for j, freq in ngram_df.iterrows():\n",
    "        if math.log(base) != 0:\n",
    "            ngram_df.loc[j, 'log_f'] = math.log(freq.f) / math.log(base)\n",
    "        else:\n",
    "            ngram_df.loc[j, 'log_f'] = math.log(freq.f)\n",
    "    \n",
    "    ngram_df['log_f'] = ngram_df['log_f'].apply(np.ceil)\n",
    "    features_datasetDF.loc[i, 'genre'] = current_lyrics.genre_num\n",
    "    \n",
    "    for ngram_class in range(ngram_classes):\n",
    "        col_name = 'class' + str(ngram_class)\n",
    "        features_datasetDF.loc[i, col_name] = (len( ngram_df[ngram_df['log_f'] == ngram_class] )/len(ngram_df['f']))"
   ]
  },
  {
   "cell_type": "code",
   "execution_count": 213,
   "metadata": {
    "scrolled": true
   },
   "outputs": [
    {
     "data": {
      "text/html": [
       "<div>\n",
       "<style scoped>\n",
       "    .dataframe tbody tr th:only-of-type {\n",
       "        vertical-align: middle;\n",
       "    }\n",
       "\n",
       "    .dataframe tbody tr th {\n",
       "        vertical-align: top;\n",
       "    }\n",
       "\n",
       "    .dataframe thead th {\n",
       "        text-align: right;\n",
       "    }\n",
       "</style>\n",
       "<table border=\"1\" class=\"dataframe\">\n",
       "  <thead>\n",
       "    <tr style=\"text-align: right;\">\n",
       "      <th></th>\n",
       "      <th>genre</th>\n",
       "      <th>class0</th>\n",
       "      <th>class1</th>\n",
       "      <th>class2</th>\n",
       "      <th>class3</th>\n",
       "    </tr>\n",
       "  </thead>\n",
       "  <tbody>\n",
       "    <tr>\n",
       "      <th>0</th>\n",
       "      <td>6.0</td>\n",
       "      <td>0.943182</td>\n",
       "      <td>0.000</td>\n",
       "      <td>0.000000</td>\n",
       "      <td>0.056818</td>\n",
       "    </tr>\n",
       "    <tr>\n",
       "      <th>1</th>\n",
       "      <td>1.0</td>\n",
       "      <td>0.990385</td>\n",
       "      <td>0.000</td>\n",
       "      <td>0.000000</td>\n",
       "      <td>0.000000</td>\n",
       "    </tr>\n",
       "    <tr>\n",
       "      <th>2</th>\n",
       "      <td>1.0</td>\n",
       "      <td>0.872000</td>\n",
       "      <td>0.064</td>\n",
       "      <td>0.032000</td>\n",
       "      <td>0.032000</td>\n",
       "    </tr>\n",
       "    <tr>\n",
       "      <th>3</th>\n",
       "      <td>6.0</td>\n",
       "      <td>1.000000</td>\n",
       "      <td>0.000</td>\n",
       "      <td>0.000000</td>\n",
       "      <td>0.000000</td>\n",
       "    </tr>\n",
       "    <tr>\n",
       "      <th>4</th>\n",
       "      <td>5.0</td>\n",
       "      <td>0.712500</td>\n",
       "      <td>0.000</td>\n",
       "      <td>0.000000</td>\n",
       "      <td>0.000000</td>\n",
       "    </tr>\n",
       "    <tr>\n",
       "      <th>...</th>\n",
       "      <td>...</td>\n",
       "      <td>...</td>\n",
       "      <td>...</td>\n",
       "      <td>...</td>\n",
       "      <td>...</td>\n",
       "    </tr>\n",
       "    <tr>\n",
       "      <th>3340</th>\n",
       "      <td>3.0</td>\n",
       "      <td>0.954545</td>\n",
       "      <td>0.000</td>\n",
       "      <td>0.000000</td>\n",
       "      <td>0.000000</td>\n",
       "    </tr>\n",
       "    <tr>\n",
       "      <th>3341</th>\n",
       "      <td>4.0</td>\n",
       "      <td>1.000000</td>\n",
       "      <td>0.000</td>\n",
       "      <td>0.000000</td>\n",
       "      <td>0.000000</td>\n",
       "    </tr>\n",
       "    <tr>\n",
       "      <th>3342</th>\n",
       "      <td>0.0</td>\n",
       "      <td>0.578947</td>\n",
       "      <td>0.000</td>\n",
       "      <td>0.368421</td>\n",
       "      <td>0.000000</td>\n",
       "    </tr>\n",
       "    <tr>\n",
       "      <th>3343</th>\n",
       "      <td>5.0</td>\n",
       "      <td>0.822785</td>\n",
       "      <td>0.000</td>\n",
       "      <td>0.139241</td>\n",
       "      <td>0.037975</td>\n",
       "    </tr>\n",
       "    <tr>\n",
       "      <th>3344</th>\n",
       "      <td>0.0</td>\n",
       "      <td>0.850575</td>\n",
       "      <td>0.000</td>\n",
       "      <td>0.103448</td>\n",
       "      <td>0.034483</td>\n",
       "    </tr>\n",
       "  </tbody>\n",
       "</table>\n",
       "<p>3345 rows × 5 columns</p>\n",
       "</div>"
      ],
      "text/plain": [
       "      genre    class0  class1    class2    class3\n",
       "0       6.0  0.943182   0.000  0.000000  0.056818\n",
       "1       1.0  0.990385   0.000  0.000000  0.000000\n",
       "2       1.0  0.872000   0.064  0.032000  0.032000\n",
       "3       6.0  1.000000   0.000  0.000000  0.000000\n",
       "4       5.0  0.712500   0.000  0.000000  0.000000\n",
       "...     ...       ...     ...       ...       ...\n",
       "3340    3.0  0.954545   0.000  0.000000  0.000000\n",
       "3341    4.0  1.000000   0.000  0.000000  0.000000\n",
       "3342    0.0  0.578947   0.000  0.368421  0.000000\n",
       "3343    5.0  0.822785   0.000  0.139241  0.037975\n",
       "3344    0.0  0.850575   0.000  0.103448  0.034483\n",
       "\n",
       "[3345 rows x 5 columns]"
      ]
     },
     "execution_count": 213,
     "metadata": {},
     "output_type": "execute_result"
    }
   ],
   "source": [
    "features_datasetDF = features_datasetDF.sample(frac=1).reset_index(drop=True)"
   ]
  },
  {
   "cell_type": "code",
   "execution_count": 46,
   "metadata": {},
   "outputs": [],
   "source": [
    "#Save DataFrame to CSV\n",
    "#features_datasetDF.to_csv (r'export_dataframe.csv', index = False, header=True)"
   ]
  },
  {
   "cell_type": "code",
   "execution_count": null,
   "metadata": {},
   "outputs": [],
   "source": [
    "#Load CSV to DataFrame\n",
    "#features_datasetDF = pd.read_csv('export_dataframe.csv')"
   ]
  },
  {
   "cell_type": "code",
   "execution_count": null,
   "metadata": {},
   "outputs": [],
   "source": [
    "#new_features_datasetDF = features_datasetDF.loc[:, features_datasetDF.columns != 'genre']\n",
    "#new_features_datasetDF = features_datasetDF[(features_datasetDF.loc[:, features_datasetDF.columns != 'genre'].T != 0).any()]"
   ]
  },
  {
   "cell_type": "code",
   "execution_count": 214,
   "metadata": {},
   "outputs": [
    {
     "data": {
      "text/html": [
       "<div>\n",
       "<style scoped>\n",
       "    .dataframe tbody tr th:only-of-type {\n",
       "        vertical-align: middle;\n",
       "    }\n",
       "\n",
       "    .dataframe tbody tr th {\n",
       "        vertical-align: top;\n",
       "    }\n",
       "\n",
       "    .dataframe thead th {\n",
       "        text-align: right;\n",
       "    }\n",
       "</style>\n",
       "<table border=\"1\" class=\"dataframe\">\n",
       "  <thead>\n",
       "    <tr style=\"text-align: right;\">\n",
       "      <th></th>\n",
       "      <th>genre</th>\n",
       "      <th>class0</th>\n",
       "      <th>class1</th>\n",
       "      <th>class2</th>\n",
       "      <th>class3</th>\n",
       "    </tr>\n",
       "  </thead>\n",
       "  <tbody>\n",
       "    <tr>\n",
       "      <th>0</th>\n",
       "      <td>6.0</td>\n",
       "      <td>0.943182</td>\n",
       "      <td>0.000</td>\n",
       "      <td>0.000000</td>\n",
       "      <td>0.056818</td>\n",
       "    </tr>\n",
       "    <tr>\n",
       "      <th>1</th>\n",
       "      <td>1.0</td>\n",
       "      <td>0.990385</td>\n",
       "      <td>0.000</td>\n",
       "      <td>0.000000</td>\n",
       "      <td>0.000000</td>\n",
       "    </tr>\n",
       "    <tr>\n",
       "      <th>2</th>\n",
       "      <td>1.0</td>\n",
       "      <td>0.872000</td>\n",
       "      <td>0.064</td>\n",
       "      <td>0.032000</td>\n",
       "      <td>0.032000</td>\n",
       "    </tr>\n",
       "    <tr>\n",
       "      <th>3</th>\n",
       "      <td>6.0</td>\n",
       "      <td>1.000000</td>\n",
       "      <td>0.000</td>\n",
       "      <td>0.000000</td>\n",
       "      <td>0.000000</td>\n",
       "    </tr>\n",
       "    <tr>\n",
       "      <th>4</th>\n",
       "      <td>5.0</td>\n",
       "      <td>0.712500</td>\n",
       "      <td>0.000</td>\n",
       "      <td>0.000000</td>\n",
       "      <td>0.000000</td>\n",
       "    </tr>\n",
       "    <tr>\n",
       "      <th>...</th>\n",
       "      <td>...</td>\n",
       "      <td>...</td>\n",
       "      <td>...</td>\n",
       "      <td>...</td>\n",
       "      <td>...</td>\n",
       "    </tr>\n",
       "    <tr>\n",
       "      <th>3340</th>\n",
       "      <td>3.0</td>\n",
       "      <td>0.954545</td>\n",
       "      <td>0.000</td>\n",
       "      <td>0.000000</td>\n",
       "      <td>0.000000</td>\n",
       "    </tr>\n",
       "    <tr>\n",
       "      <th>3341</th>\n",
       "      <td>4.0</td>\n",
       "      <td>1.000000</td>\n",
       "      <td>0.000</td>\n",
       "      <td>0.000000</td>\n",
       "      <td>0.000000</td>\n",
       "    </tr>\n",
       "    <tr>\n",
       "      <th>3342</th>\n",
       "      <td>0.0</td>\n",
       "      <td>0.578947</td>\n",
       "      <td>0.000</td>\n",
       "      <td>0.368421</td>\n",
       "      <td>0.000000</td>\n",
       "    </tr>\n",
       "    <tr>\n",
       "      <th>3343</th>\n",
       "      <td>5.0</td>\n",
       "      <td>0.822785</td>\n",
       "      <td>0.000</td>\n",
       "      <td>0.139241</td>\n",
       "      <td>0.037975</td>\n",
       "    </tr>\n",
       "    <tr>\n",
       "      <th>3344</th>\n",
       "      <td>0.0</td>\n",
       "      <td>0.850575</td>\n",
       "      <td>0.000</td>\n",
       "      <td>0.103448</td>\n",
       "      <td>0.034483</td>\n",
       "    </tr>\n",
       "  </tbody>\n",
       "</table>\n",
       "<p>3345 rows × 5 columns</p>\n",
       "</div>"
      ],
      "text/plain": [
       "      genre    class0  class1    class2    class3\n",
       "0       6.0  0.943182   0.000  0.000000  0.056818\n",
       "1       1.0  0.990385   0.000  0.000000  0.000000\n",
       "2       1.0  0.872000   0.064  0.032000  0.032000\n",
       "3       6.0  1.000000   0.000  0.000000  0.000000\n",
       "4       5.0  0.712500   0.000  0.000000  0.000000\n",
       "...     ...       ...     ...       ...       ...\n",
       "3340    3.0  0.954545   0.000  0.000000  0.000000\n",
       "3341    4.0  1.000000   0.000  0.000000  0.000000\n",
       "3342    0.0  0.578947   0.000  0.368421  0.000000\n",
       "3343    5.0  0.822785   0.000  0.139241  0.037975\n",
       "3344    0.0  0.850575   0.000  0.103448  0.034483\n",
       "\n",
       "[3345 rows x 5 columns]"
      ]
     },
     "execution_count": 214,
     "metadata": {},
     "output_type": "execute_result"
    }
   ],
   "source": [
    "new_features_datasetDF = features_datasetDF"
   ]
  },
  {
   "cell_type": "markdown",
   "metadata": {},
   "source": [
    "# 3. Classifier Model Training"
   ]
  },
  {
   "cell_type": "code",
   "execution_count": 219,
   "metadata": {},
   "outputs": [
    {
     "name": "stdout",
     "output_type": "stream",
     "text": [
      "Recall:  0.19820717131474103\n",
      "F1:  0.19820717131474103\n"
     ]
    }
   ],
   "source": [
    "Y = new_features_datasetDF.genre.values\n",
    "X = new_features_datasetDF.loc[:, new_features_datasetDF.columns != 'genre'].values\n",
    "\n",
    "X_train, X_test, y_train, y_test = train_test_split(X, Y, test_size = 0.3)\n",
    "\n",
    "mnb = MultinomialNB()\n",
    "\n",
    "y_score = mnb.fit(X_train, y_train)\n",
    "\n",
    "y_pred = mnb.predict(X_test)\n",
    "y_pred_prob = mnb.predict_proba(X_test)\n",
    "\n",
    "print('Recall: ',metrics.recall_score(y_test, y_pred, average='micro'))\n",
    "y_pred = mnb.predict(X_test)\n",
    "print('F1: ',metrics.f1_score(y_test, y_pred, average='micro'))\n",
    "\n",
    "fpr0, tpr0, threshold0 = roc_curve(y_true=y_test, y_score=y_pred_prob[:,0], pos_label=0)\n",
    "fpr1, tpr1, threshold1 = roc_curve(y_true=y_test, y_score=y_pred_prob[:,1], pos_label=1)\n",
    "fpr2, tpr2, threshold2 = roc_curve(y_true=y_test, y_score=y_pred_prob[:,2], pos_label=2)\n",
    "fpr3, tpr3, threshold3 = roc_curve(y_true=y_test, y_score=y_pred_prob[:,3], pos_label=3)\n",
    "fpr4, tpr4, threshold4 = roc_curve(y_true=y_test, y_score=y_pred_prob[:,4], pos_label=4)\n",
    "fpr5, tpr5, threshold5 = roc_curve(y_true=y_test, y_score=y_pred_prob[:,5], pos_label=5)\n",
    "fpr6, tpr6, threshold6 = roc_curve(y_true=y_test, y_score=y_pred_prob[:,6], pos_label=6)\n",
    "\n",
    "#print(\"------ Naive Bayes Classifier using CountVectorizer -----\")\n",
    "#print( \"Average accuracy of 10-fold validation using training dataset: \", cross_val_score(mnb, X_train, y_train, scoring='accuracy', cv=10).mean() )\n",
    "#print(\"Average accuracy of 10-fold validation using testing dataset: \", cross_val_score(mnb, X_test, y_test, scoring='accuracy', cv=10).mean() )\n",
    "\n",
    "#print (cross_val_score(mnb, X_train, y_train, cv=5, scoring='f1') )"
   ]
  },
  {
   "cell_type": "markdown",
   "metadata": {},
   "source": [
    "# 4. Classifier Performance Evaluation"
   ]
  },
  {
   "cell_type": "markdown",
   "metadata": {},
   "source": [
    "### Confusion matrix"
   ]
  },
  {
   "cell_type": "code",
   "execution_count": 220,
   "metadata": {},
   "outputs": [
    {
     "data": {
      "image/png": "[encoded data removed]",
      "text/plain": [
       "<Figure size 432x288 with 2 Axes>"
      ]
     },
     "metadata": {
      "needs_background": "light"
     },
     "output_type": "display_data"
    }
   ],
   "source": [
    "cf_matrix = confusion_matrix(y_test, y_pred)\n",
    "sns.heatmap(cf_matrix, annot=True, fmt='g')\n",
    "plt.title('Confusion Matrix on Test Data')\n",
    "plt.show()"
   ]
  },
  {
   "cell_type": "markdown",
   "metadata": {},
   "source": [
    "### ROC Curve"
   ]
  },
  {
   "cell_type": "code",
   "execution_count": 221,
   "metadata": {},
   "outputs": [
    {
     "data": {
      "image/png": "[encoded data removed]",
      "text/plain": [
       "<Figure size 720x504 with 1 Axes>"
      ]
     },
     "metadata": {
      "needs_background": "light"
     },
     "output_type": "display_data"
    }
   ],
   "source": [
    "fig, ax = plt.subplots(figsize=(10,7))\n",
    "ax.plot([0, 1], [0, 1], 'k--')\n",
    "ax.set_xlim([0.0, 1.0])\n",
    "ax.set_ylim([0.0, 1.05])\n",
    "ax.set_xlabel('False Positive Rate')\n",
    "ax.set_ylabel('True Positive Rate')\n",
    "ax.set_title('Receiver operating characteristic example')\n",
    "\n",
    "plt.plot(fpr0,tpr0, color='red', label = 'pop ' + str(  round(auc(fpr0, tpr0), 2)) )\n",
    "plt.plot(fpr1,tpr1, color='blue', label = 'jazz ' + str(  round(auc(fpr1, tpr1), 2)) )\n",
    "plt.plot(fpr2,tpr2, color='green', label = 'blues ' + str(  round(auc(fpr2, tpr2), 2)) )\n",
    "plt.plot(fpr3,tpr3, color='yellow', label = 'reggae ' + str(  round(auc(fpr3, tpr3), 2)) )\n",
    "plt.plot(fpr4,tpr4, color='brown', label = 'hip hop ' + str(  round(auc(fpr4, tpr4), 2)) )\n",
    "plt.plot(fpr5,tpr5, color='purple', label = 'rock ' + str(  round(auc(fpr5, tpr5), 2)) )\n",
    "plt.plot(fpr6,tpr6, color='maroon', label = 'country '+ str(  round(auc(fpr6, tpr6), 2)) )\n",
    "\n",
    "plt.title('ROC Curve', size=20)\n",
    "plt.plot([0, 1], [0, 1], color='green', linestyle=':')\n",
    "plt.xlabel('False Positive Rate', size=15)\n",
    "plt.ylabel('True Positive Rate', size=15)\n",
    "plt.legend()\n",
    "plt.show()"
   ]
  },
  {
   "cell_type": "markdown",
   "metadata": {},
   "source": [
    "# Neural Network"
   ]
  },
  {
   "cell_type": "code",
   "execution_count": null,
   "metadata": {},
   "outputs": [],
   "source": [
    "# multi-class classification with Keras\n",
    "import pandas\n",
    "from keras.models import Sequential\n",
    "from keras.layers import Dense\n",
    "from keras.wrappers.scikit_learn import KerasClassifier\n",
    "from keras.utils import np_utils\n",
    "from sklearn.model_selection import cross_val_score\n",
    "from sklearn.model_selection import KFold\n",
    "from sklearn.preprocessing import LabelEncoder\n",
    "from sklearn.pipeline import Pipeline\n",
    "\n",
    "#4 inputs -> [8 hidden nodes] -> 3 outputs\n",
    "\n",
    "# load dataset\n",
    "#Y = new_features_datasetDF.genre\n",
    "Y = new_features_datasetDF.genre.values\n",
    "#X = new_features_datasetDF.loc[:, new_features_datasetDF.columns != 'genre']\n",
    "X = new_features_datasetDF.loc[:, new_features_datasetDF.columns != 'genre'].values\n",
    "\n",
    "# encode class values as integers\n",
    "encoder = LabelEncoder()\n",
    "encoder.fit(Y)\n",
    "encoded_Y = encoder.transform(Y)\n",
    "# convert integers to dummy variables (i.e. one hot encoded)\n",
    "dummy_y = np_utils.to_categorical(encoded_Y)\n",
    "\n",
    "# define baseline model\n",
    "def baseline_model():\n",
    "    # create model\n",
    "    model = Sequential()\n",
    "    model.add(Dense(5, input_dim=ngram_classes, activation='relu'))\n",
    "    model.add(Dense(7, activation='softmax'))\n",
    "    # Compile model\n",
    "    model.compile(loss='categorical_crossentropy', optimizer='adam', metrics=['accuracy'])\n",
    "    return model\n",
    "\n",
    "estimator = KerasClassifier(build_fn=baseline_model, epochs=200, batch_size=5, verbose=0)\n",
    "kfold = KFold(n_splits=10, shuffle=True)\n",
    "results = cross_val_score(estimator, X, dummy_y, cv=kfold)\n",
    "print(\"Baseline: %.2f%% (%.2f%%)\" % (results.mean()*100, results.std()*100))"
   ]
  },
  {
   "cell_type": "code",
   "execution_count": null,
   "metadata": {},
   "outputs": [],
   "source": [
    "new_features_datasetDF"
   ]
  },
  {
   "cell_type": "code",
   "execution_count": null,
   "metadata": {},
   "outputs": [],
   "source": [
    "import pickle\n",
    "\n",
    "# save the model to disk\n",
    "filename = 'finalized_model.sav'\n",
    "pickle.dump(estimator, open(filename, 'wb'))"
   ]
  },
  {
   "cell_type": "code",
   "execution_count": null,
   "metadata": {},
   "outputs": [],
   "source": [
    "# load the model from disk\n",
    "loaded_model = pickle.load(open(filename, 'rb'))\n",
    "result = loaded_model.score(X_test, Y_test)\n",
    "print(result)"
   ]
  },
  {
   "cell_type": "code",
   "execution_count": null,
   "metadata": {},
   "outputs": [],
   "source": []
  },
  {
   "cell_type": "markdown",
   "metadata": {},
   "source": [
    "# TF-IDF Feature"
   ]
  },
  {
   "cell_type": "code",
   "execution_count": 91,
   "metadata": {},
   "outputs": [],
   "source": [
    "from time import time\n",
    "from sklearn.feature_extraction.text import TfidfVectorizer, CountVectorizer\n",
    "from sklearn.naive_bayes import MultinomialNB\n",
    "from sklearn import metrics\n",
    "from sklearn.metrics import roc_curve, auc\n",
    "from sklearn.model_selection import train_test_split\n",
    "from sklearn.model_selection import cross_val_score"
   ]
  },
  {
   "cell_type": "code",
   "execution_count": null,
   "metadata": {},
   "outputs": [],
   "source": [
    "balanced_datasetDF = pd.DataFrame()\n",
    "balanced_datasetDF = balanced_datasetDF.append(datasetDF[datasetDF['genre'] == 'blues'].head(900))\n",
    "balanced_datasetDF = balanced_datasetDF.append(datasetDF[datasetDF['genre'] == 'country'].head(900))\n",
    "balanced_datasetDF = balanced_datasetDF.append(datasetDF[datasetDF['genre'] == 'hip hop'].head(900))\n",
    "balanced_datasetDF = balanced_datasetDF.append(datasetDF[datasetDF['genre'] == 'jazz'].head(900))\n",
    "balanced_datasetDF = balanced_datasetDF.append(datasetDF[datasetDF['genre'] == 'reggae'].head(900))\n",
    "balanced_datasetDF = balanced_datasetDF.append(datasetDF[datasetDF['genre'] == 'rock'].head(900))\n",
    "balanced_datasetDF = balanced_datasetDF.append(datasetDF[datasetDF['genre'] == 'pop'].head(900))\n",
    "balanced_datasetDF.shape"
   ]
  },
  {
   "cell_type": "code",
   "execution_count": 186,
   "metadata": {},
   "outputs": [],
   "source": [
    "tfidf_datasetDF = balanced_datasetDF[['lyrics', 'genre_num']]\n",
    "tfidf_datasetDF = tfidf_datasetDF.sample(frac=1).reset_index(drop=True)"
   ]
  },
  {
   "cell_type": "code",
   "execution_count": 187,
   "metadata": {},
   "outputs": [
    {
     "name": "stdout",
     "output_type": "stream",
     "text": [
      "------ Naive Bayes Classifier using CountVectorizer -----\n",
      "Average accuracy of 10-fold validation using training dataset:  0.303269685397345\n",
      "Average accuracy of 10-fold validation using testing dataset:  0.27588118811881185\n"
     ]
    }
   ],
   "source": [
    "X = tfidf_datasetDF.lyrics.values\n",
    "y = tfidf_datasetDF.genre_num.values\n",
    "\n",
    "tfidf_vec = TfidfVectorizer()\n",
    "\n",
    "X_train, X_test, y_train, y_test = train_test_split(X, y, test_size = 0.3)\n",
    "\n",
    "mnb = MultinomialNB()\n",
    "X_train = tfidf_vec.fit_transform(X_train)\n",
    "X_test = tfidf_vec.transform(X_test)\n",
    "mnb.fit(X_train, y_train)\n",
    "\n",
    "y_pred = mnb.predict(X_test)\n",
    "y_pred_prob = mnb.predict_proba(X_test)\n",
    "#spam_probs = y_pred_prob[:,1]\n",
    "\n",
    "fpr0, tpr0, threshold0 = roc_curve(y_true=y_test, y_score=y_pred_prob[:,0], pos_label=0)\n",
    "fpr1, tpr1, threshold1 = roc_curve(y_true=y_test, y_score=y_pred_prob[:,1], pos_label=1)\n",
    "fpr2, tpr2, threshold2 = roc_curve(y_true=y_test, y_score=y_pred_prob[:,2], pos_label=2)\n",
    "fpr3, tpr3, threshold3 = roc_curve(y_true=y_test, y_score=y_pred_prob[:,3], pos_label=3)\n",
    "fpr4, tpr4, threshold4 = roc_curve(y_true=y_test, y_score=y_pred_prob[:,4], pos_label=4)\n",
    "fpr5, tpr5, threshold5 = roc_curve(y_true=y_test, y_score=y_pred_prob[:,5], pos_label=5)\n",
    "fpr6, tpr6, threshold6 = roc_curve(y_true=y_test, y_score=y_pred_prob[:,6], pos_label=6)\n",
    "\n",
    "print(\"------ Naive Bayes Classifier using CountVectorizer -----\")\n",
    "print( \"Average accuracy of 10-fold validation using training dataset: \", cross_val_score(mnb, X_train, y_train, scoring='accuracy', cv=10).mean() )\n",
    "print(\"Average accuracy of 10-fold validation using testing dataset: \", cross_val_score(mnb, X_test, y_test, scoring='accuracy', cv=10).mean() )"
   ]
  },
  {
   "cell_type": "code",
   "execution_count": 188,
   "metadata": {},
   "outputs": [
    {
     "data": {
      "image/png": "[encoded data removed]",
      "text/plain": [
       "<Figure size 432x288 with 2 Axes>"
      ]
     },
     "metadata": {
      "needs_background": "light"
     },
     "output_type": "display_data"
    }
   ],
   "source": [
    "cf_matrix = confusion_matrix(y_test, y_pred)\n",
    "sns.heatmap(cf_matrix, annot=True, fmt='g')\n",
    "plt.title('Confusion Matrix on Test Data')\n",
    "plt.show()"
   ]
  },
  {
   "cell_type": "code",
   "execution_count": null,
   "metadata": {},
   "outputs": [],
   "source": []
  },
  {
   "cell_type": "code",
   "execution_count": 189,
   "metadata": {},
   "outputs": [
    {
     "data": {
      "image/png": "[encoded data removed]",
      "text/plain": [
       "<Figure size 720x504 with 1 Axes>"
      ]
     },
     "metadata": {
      "needs_background": "light"
     },
     "output_type": "display_data"
    }
   ],
   "source": [
    "\n",
    "fig, ax = plt.subplots(figsize=(10,7))\n",
    "ax.plot([0, 1], [0, 1], 'k--')\n",
    "ax.set_xlim([0.0, 1.0])\n",
    "ax.set_ylim([0.0, 1.05])\n",
    "ax.set_xlabel('False Positive Rate')\n",
    "ax.set_ylabel('True Positive Rate')\n",
    "ax.set_title('Receiver operating characteristic example')\n",
    "\n",
    "plt.plot(fpr0,tpr0, color='red', label = 'pop ' + str(  round(auc(fpr0, tpr0), 2)) )\n",
    "plt.plot(fpr1,tpr1, color='blue', label = 'jazz ' + str(  round(auc(fpr1, tpr1), 2)) )\n",
    "plt.plot(fpr2,tpr2, color='green', label = 'blues ' + str(  round(auc(fpr2, tpr2), 2)) )\n",
    "plt.plot(fpr3,tpr3, color='yellow', label = 'reggae ' + str(  round(auc(fpr3, tpr3), 2)) )\n",
    "plt.plot(fpr4,tpr4, color='brown', label = 'hip hop ' + str(  round(auc(fpr4, tpr4), 2)) )\n",
    "plt.plot(fpr5,tpr5, color='purple', label = 'rock ' + str(  round(auc(fpr5, tpr5), 2)) )\n",
    "plt.plot(fpr6,tpr6, color='maroon', label = 'country '+ str(  round(auc(fpr6, tpr6), 2)) )\n",
    "\n",
    "plt.title('ROC Curve', size=20)\n",
    "plt.plot([0, 1], [0, 1], color='green', linestyle=':')\n",
    "plt.xlabel('False Positive Rate', size=15)\n",
    "plt.ylabel('True Positive Rate', size=15)\n",
    "plt.legend()\n",
    "plt.show()"
   ]
  },
  {
   "cell_type": "code",
   "execution_count": null,
   "metadata": {},
   "outputs": [],
   "source": []
  },
  {
   "cell_type": "markdown",
   "metadata": {},
   "source": [
    "# Test a String Lyrics - Demo"
   ]
  },
  {
   "cell_type": "code",
   "execution_count": 89,
   "metadata": {},
   "outputs": [],
   "source": [
    "def classify_lyrics(text):\n",
    "    lowercase_lyrics = text.lower()\n",
    "    clean_lyrics = remove_notwords(lowercase_lyrics)\n",
    "    lemmatize_lyrics = lemmatize_text(clean_lyrics)\n",
    "    no_stopwords = remove_stopwords(lemmatize_lyrics)\n",
    "    \n",
    "    features_datasetDF = pd.DataFrame()\n",
    "    trigrams = get_ngrams(no_stopwords)\n",
    "    fdist = nltk.FreqDist( trigrams )\n",
    "    ngram_df = pd.DataFrame( data = fdist.items(), columns=['ngram', 'f'] )\n",
    "    base = round ( ngram_df['f'].max()**(1/float(ngram_classes-1)), 5 )\n",
    "    for j, freq in ngram_df.iterrows():\n",
    "        if math.log(base) != 0:\n",
    "            ngram_df.loc[j, 'log_f'] = math.log(freq.f) / math.log(base)\n",
    "        else:\n",
    "            ngram_df.loc[j, 'log_f'] = math.log(freq.f)\n",
    "        ngram_df['log_f'] = ngram_df['log_f'].apply(np.ceil)\n",
    "        features_datasetDF.loc[0, 'genre'] = current_lyrics.genre_num\n",
    "\n",
    "    for ngram_class in range(ngram_classes):\n",
    "        col_name = 'class' + str(ngram_class)\n",
    "        features_datasetDF.loc[0, col_name] = (len( ngram_df[ngram_df['log_f'] == ngram_class] )/len(ngram_df['f']))\n",
    "        \n",
    "    prediction = mnb.predict(features_datasetDF.loc[:, new_features_datasetDF.columns != 'genre'].values)\n",
    "    prediction = math.trunc(prediction[0])\n",
    "    \n",
    "    for genre, value in d.items():\n",
    "        if value == prediction:\n",
    "            return genre\n",
    "    \n",
    "    return prediction\n"
   ]
  },
  {
   "cell_type": "code",
   "execution_count": 222,
   "metadata": {},
   "outputs": [
    {
     "name": "stdout",
     "output_type": "stream",
     "text": [
      "rock\n"
     ]
    }
   ],
   "source": [
    "test_lyrics = 'Im still alive but Im barely breathing Just prayin to a God that I dont believe in Cause I got time while she got freedom Cause when a heart breaks no it dont break even Her best days will be some of my worst She finally met a man thats gonna put her first While Im wide awake shes no trouble sleeping Cause when a heart breaks no it dont break even even no What am I supposed to do when the best part of me was always you And What am I supposed to say when Im all choked up and youre OK Im falling to pieces yeah Im falling to pieces They say bad things happen for a reason But no wise words gonna stop the bleeding Cause shes moved on while Im still grieving And when a heart breaks no it dont break even even no And what am I going to do when the best part of me was always you And What am I supposed to say when Im all choked up and youre OK Im falling to pieces yeah Im falling to pieces yeah Im falling to pieces One still in love while the other ones leaving Im falling to pieces Cause when a heart breaks no it dont break even Oh you got his heart and my heart and none of the pain You took your suitcase I took the blame Now Im tryna make sense of what little remains ooh Cause you left me with no love and no love to my name Im still alive but Im barely breathing Just prayin to a God that I dont believe in Cause I got time while she got freedom Cause when a heart breaks no it dont break No it dont break no it dont break even no What am I gonna do when the best part of me was always you And What am I suppose to say when Im all choked up and youre OK Oh glad your okay now Im falling to pieces yeah Im falling to pieces oh Im falling falling yeah Im falling to pieces One still in love while the other ones leaving Im falling to pieces Cause when a heart breaks no it dont break even Oh it dont break even no Oh it dont break even no Oh it dont break even no'\n",
    "print(classify_lyrics(test_lyrics))\n"
   ]
  },
  {
   "cell_type": "code",
   "execution_count": null,
   "metadata": {},
   "outputs": [],
   "source": []
  }
 ],
 "metadata": {
  "kernelspec": {
   "display_name": "Python 3",
   "language": "python",
   "name": "python3"
  },
  "language_info": {
   "codemirror_mode": {
    "name": "ipython",
    "version": 3
   },
   "file_extension": ".py",
   "mimetype": "text/x-python",
   "name": "python",
   "nbconvert_exporter": "python",
   "pygments_lexer": "ipython3",
   "version": "3.8.8"
  }
 },
 "nbformat": 4,
 "nbformat_minor": 2
}
